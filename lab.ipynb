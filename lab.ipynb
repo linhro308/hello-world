{
 "cells": [
  {
   "attachments": {},
   "cell_type": "markdown",
   "metadata": {},
   "source": [
    "Bài học vỡ lòng"
   ]
  },
  {
   "cell_type": "code",
   "execution_count": null,
   "metadata": {},
   "outputs": [],
   "source": [
    "print(\"hello world\")"
   ]
  },
  {
   "cell_type": "code",
   "execution_count": null,
   "metadata": {},
   "outputs": [],
   "source": [
    "print(\"1\", \"2\", \"3\")\n",
    "print(\"1\", \"2\", \"3\", sep=\"-->\")\n",
    "print(\"1\", \"2\", \"3\", sep=\"-->\",end=\";\")\n"
   ]
  },
  {
   "attachments": {},
   "cell_type": "markdown",
   "metadata": {},
   "source": [
    "Hàm INPUT"
   ]
  },
  {
   "cell_type": "code",
   "execution_count": null,
   "metadata": {},
   "outputs": [],
   "source": [
    "a = input(a)\n",
    "b = input(b)\n",
    "print(\"Tổng 2 số là:\")\n",
    "d=1\n",
    "e=2\n",
    "f=d+e\n",
    "print(f)"
   ]
  },
  {
   "cell_type": "code",
   "execution_count": null,
   "metadata": {},
   "outputs": [],
   "source": [
    "ip_add = \"192.168.1.1\"\n",
    "octets_1 = ip_add.split(\".\")\n",
    "print(octets_1)\n",
    "print(octets_1[1])\n",
    "\".\".join(octets_1)"
   ]
  },
  {
   "cell_type": "code",
   "execution_count": null,
   "metadata": {},
   "outputs": [],
   "source": [
    "name = \"linh\"\n",
    "age = 30\n",
    "company = \"Viettel\"\n",
    "info = f\"My Name is {name}, i'm {age} year old, i'm working for {company}\"\n",
    "print(info)"
   ]
  },
  {
   "cell_type": "code",
   "execution_count": null,
   "metadata": {},
   "outputs": [],
   "source": [
    "age = input (\"nhap số tuổi của bạn:\")\n",
    "if int(age)-18:\n",
    "    print(\"Bạn đã là người lớn\")\n",
    "else:\n",
    "    print(\"em còn bé quá\")\n"
   ]
  },
  {
   "cell_type": "code",
   "execution_count": null,
   "metadata": {},
   "outputs": [],
   "source": [
    "for i in range(10):\n",
    "    if i%2:\n",
    "        print(i,\" là số lẻ\",)\n",
    "    else:\n",
    "        print(i,\" là số chẵn\")"
   ]
  },
  {
   "cell_type": "code",
   "execution_count": null,
   "metadata": {},
   "outputs": [],
   "source": [
    "i = 0;\n",
    "while i > -10:\n",
    "    print(i)\n",
    "    i-=2\n"
   ]
  },
  {
   "cell_type": "code",
   "execution_count": 24,
   "metadata": {},
   "outputs": [
    {
     "data": {
      "text/plain": [
       "str"
      ]
     },
     "execution_count": 24,
     "metadata": {},
     "output_type": "execute_result"
    }
   ],
   "source": [
    "router_id = input(\"router_id\")\n",
    "AS_Number = input(\"AS_Number\")\n",
    "config = f\"conf t ,router_id {router_id} ,as_number {AS_Number}\"\n",
    "type(config)"
   ]
  },
  {
   "cell_type": "code",
   "execution_count": null,
   "metadata": {},
   "outputs": [],
   "source": [
    "print (\"\"\"\n",
    "a\n",
    "\n",
    "c\"\"\")"
   ]
  }
 ],
 "metadata": {
  "kernelspec": {
   "display_name": "Python 3",
   "language": "python",
   "name": "python3"
  },
  "language_info": {
   "codemirror_mode": {
    "name": "ipython",
    "version": 3
   },
   "file_extension": ".py",
   "mimetype": "text/x-python",
   "name": "python",
   "nbconvert_exporter": "python",
   "pygments_lexer": "ipython3",
   "version": "3.10.6"
  },
  "orig_nbformat": 4
 },
 "nbformat": 4,
 "nbformat_minor": 2
}
