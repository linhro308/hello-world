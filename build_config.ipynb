{
 "cells": [
  {
   "attachments": {},
   "cell_type": "markdown",
   "metadata": {},
   "source": [
    "Bài học vỡ lòng"
   ]
  },
  {
   "cell_type": "code",
   "execution_count": null,
   "metadata": {},
   "outputs": [],
   "source": [
    "print(\"hello world\")"
   ]
  },
  {
   "cell_type": "code",
   "execution_count": null,
   "metadata": {},
   "outputs": [],
   "source": [
    "print(\"1\", \"2\", \"3\")\n",
    "print(\"1\", \"2\", \"3\", sep=\"-->\")\n",
    "print(\"1\", \"2\", \"3\", sep=\"-->\",end=\";\")\n"
   ]
  },
  {
   "attachments": {},
   "cell_type": "markdown",
   "metadata": {},
   "source": [
    "Hàm INPUT"
   ]
  },
  {
   "cell_type": "code",
   "execution_count": null,
   "metadata": {},
   "outputs": [],
   "source": [
    "a = input(a)\n",
    "b = input(b)\n",
    "print(\"Tổng 2 số là:\")\n",
    "d=1\n",
    "e=2\n",
    "f=d+e\n",
    "print(f)"
   ]
  },
  {
   "cell_type": "code",
   "execution_count": null,
   "metadata": {},
   "outputs": [],
   "source": [
    "ip_add = \"192.168.1.1\"\n",
    "octets_1 = ip_add.split(\".\")\n",
    "print(octets_1)\n",
    "print(octets_1[1])\n",
    "\".\".join(octets_1)"
   ]
  },
  {
   "cell_type": "code",
   "execution_count": null,
   "metadata": {},
   "outputs": [],
   "source": [
    "name = \"linh\"\n",
    "age = 30\n",
    "company = \"Viettel\"\n",
    "info = f\"My Name is {name}, i'm {age} year old, i'm working for {company}\"\n",
    "print(info)"
   ]
  },
  {
   "cell_type": "code",
   "execution_count": null,
   "metadata": {},
   "outputs": [],
   "source": [
    "age = input (\"nhap số tuổi của bạn:\")\n",
    "if int(age)-18:\n",
    "    print(\"Bạn đã là người lớn\")\n",
    "else:\n",
    "    print(\"em còn bé quá\")\n"
   ]
  },
  {
   "cell_type": "code",
   "execution_count": null,
   "metadata": {},
   "outputs": [],
   "source": [
    "for i in range(10):\n",
    "    if i%2:\n",
    "        print(i,\" là số lẻ\",)\n",
    "    else:\n",
    "        print(i,\" là số chẵn\")"
   ]
  },
  {
   "cell_type": "code",
   "execution_count": null,
   "metadata": {},
   "outputs": [],
   "source": [
    "i = 0;\n",
    "while i > -10:\n",
    "    print(i)\n",
    "    i-=2\n"
   ]
  },
  {
   "cell_type": "code",
   "execution_count": null,
   "metadata": {},
   "outputs": [],
   "source": [
    "router_id = input(\"router_id\")\n",
    "AS_Number = input(\"AS_Number\")\n",
    "config = f\"conf t ,router_id {router_id} ,as_number {AS_Number}\"\n",
    "type(config)"
   ]
  },
  {
   "cell_type": "code",
   "execution_count": null,
   "metadata": {},
   "outputs": [],
   "source": [
    "ip_add =['192.168.1.1', '169.254.100.1.', '172.16.200.1']\n",
    "print(ip_add)\n",
    "for ip in ip_add:\n",
    "    octets = ip.split(\".\")\n",
    "    print(octets)\n",
    "    octets_new = [octets[0], octets[1], str((int(octets[2])+5)), str(int(octets[3])+9)]\n",
    "    new_ip = '.'.join(octets_new)\n",
    "    print(new_ip)\n",
    "    print(type(new_ip))\n",
    "    print (new_ip_add)\n"
   ]
  },
  {
   "cell_type": "code",
   "execution_count": null,
   "metadata": {},
   "outputs": [],
   "source": [
    "def hello():\n",
    "    print(\"hello\")"
   ]
  },
  {
   "cell_type": "code",
   "execution_count": null,
   "metadata": {},
   "outputs": [],
   "source": [
    "hello()"
   ]
  },
  {
   "cell_type": "code",
   "execution_count": null,
   "metadata": {},
   "outputs": [],
   "source": [
    "def VRF (vrf_name, rd, rt):\n",
    "    print ('vrf:', vrf_name)"
   ]
  },
  {
   "cell_type": "code",
   "execution_count": null,
   "metadata": {},
   "outputs": [],
   "source": [
    "VRF(\"1\",\"2\",\"3\")"
   ]
  },
  {
   "cell_type": "code",
   "execution_count": null,
   "metadata": {},
   "outputs": [],
   "source": [
    "def multi (a,b,c):\n",
    "    print('before return')\n",
    "    return a*b+c"
   ]
  },
  {
   "cell_type": "code",
   "execution_count": null,
   "metadata": {},
   "outputs": [],
   "source": [
    "multi(a=2,b=1,c=1)"
   ]
  },
  {
   "cell_type": "code",
   "execution_count": null,
   "metadata": {},
   "outputs": [],
   "source": []
  },
  {
   "cell_type": "code",
   "execution_count": null,
   "metadata": {},
   "outputs": [],
   "source": [
    "def build_ospf_config(vrf, rd , rt ):\n",
    "    return f\"\"\"\n",
    "    vrf: {vrf}\n",
    "    rd : {rd}\n",
    "    rt : {rt}\"\"\"\n",
    "config = build_ospf_config (vrf = \"viettel\", rd  = \"7552:1\", rt = \"7552:100\")"
   ]
  },
  {
   "cell_type": "code",
   "execution_count": null,
   "metadata": {},
   "outputs": [],
   "source": [
    "print(config)"
   ]
  },
  {
   "cell_type": "code",
   "execution_count": null,
   "metadata": {},
   "outputs": [],
   "source": [
    "def build_ospf_config_1(vrf,rd, rt_export='', rt_import=''):\n",
    "    rt_export = rd if not rt_export else rt_export\n",
    "    rt_import = rd if not rt_import else rt_import\n",
    "    return f\"\"\"\n",
    "    vrf: {vrf}\n",
    "    rd : {rd}\n",
    "    rt_import : {rt_import}\n",
    "    rt_export : {rt_export}\n",
    "    \"\"\""
   ]
  },
  {
   "cell_type": "code",
   "execution_count": null,
   "metadata": {},
   "outputs": [],
   "source": [
    "print(build_ospf_config_1(1,2,3))"
   ]
  },
  {
   "attachments": {},
   "cell_type": "markdown",
   "metadata": {},
   "source": [
    "Modules"
   ]
  },
  {
   "cell_type": "code",
   "execution_count": null,
   "metadata": {},
   "outputs": [],
   "source": []
  }
 ],
 "metadata": {
  "kernelspec": {
   "display_name": "Python 3",
   "language": "python",
   "name": "python3"
  },
  "language_info": {
   "codemirror_mode": {
    "name": "ipython",
    "version": 3
   },
   "file_extension": ".py",
   "mimetype": "text/x-python",
   "name": "python",
   "nbconvert_exporter": "python",
   "pygments_lexer": "ipython3",
   "version": "3.10.6"
  },
  "orig_nbformat": 4
 },
 "nbformat": 4,
 "nbformat_minor": 2
}
